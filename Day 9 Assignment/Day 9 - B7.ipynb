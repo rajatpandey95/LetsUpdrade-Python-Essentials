{
 "cells": [
  {
   "cell_type": "markdown",
   "metadata": {},
   "source": [
    "# Question 1\n",
    "! pip install pylint"
   ]
  },
  {
   "cell_type": "code",
   "execution_count": 43,
   "metadata": {},
   "outputs": [
    {
     "name": "stdout",
     "output_type": "stream",
     "text": [
      "Overwriting prime.py\n"
     ]
    }
   ],
   "source": [
    "%%writefile prime.py\n",
    "'''\n",
    "This function is check a prime number\n",
    "'''\n",
    "\n",
    "def prime(arg):\n",
    "    '''\n",
    "    function to check\n",
    "    '''\n",
    "    for j in range(2, arg):\n",
    "        if arg % j == 0:\n",
    "            print(A, 'is not a prime number.')\n",
    "            break\n",
    "    else:\n",
    "        print(A, 'is a prime number')\n",
    "A = 47\n",
    "prime(A)"
   ]
  },
  {
   "cell_type": "code",
   "execution_count": 44,
   "metadata": {},
   "outputs": [
    {
     "name": "stdout",
     "output_type": "stream",
     "text": [
      "\n",
      "-------------------------------------------------------------------\n",
      "\n",
      "Your code has been rated at 10.00/10 (previous run: 8.75/10, +1.25)\n",
      "\n",
      "\n",
      "\n"
     ]
    }
   ],
   "source": [
    "! pylint \"prime.py\""
   ]
  },
  {
   "cell_type": "code",
   "execution_count": 62,
   "metadata": {},
   "outputs": [
    {
     "name": "stdout",
     "output_type": "stream",
     "text": [
      "Overwriting primeunittest.py\n"
     ]
    }
   ],
   "source": [
    "%%writefile primeunittest.py\n",
    "\n",
    "import unittest\n",
    "def prime():\n",
    "    '''\n",
    "    function to check\n",
    "    '''\n",
    "    args = int(input())\n",
    "    for j in range(2, arg):\n",
    "        if arg % j == 0:\n",
    "            print(A, 'is not a prime number.')\n",
    "            break\n",
    "    else:\n",
    "        print(A, 'is a prime number')\n",
    "        \n",
    "if __name__ == \"__main__\" :\n",
    "    unittest.main()"
   ]
  },
  {
   "cell_type": "code",
   "execution_count": 63,
   "metadata": {},
   "outputs": [
    {
     "name": "stderr",
     "output_type": "stream",
     "text": [
      "\n",
      "----------------------------------------------------------------------\n",
      "Ran 0 tests in 0.000s\n",
      "\n",
      "OK\n"
     ]
    }
   ],
   "source": [
    "! python primeunittest.py"
   ]
  },
  {
   "cell_type": "markdown",
   "metadata": {},
   "source": [
    "# Question 2"
   ]
  },
  {
   "cell_type": "code",
   "execution_count": 65,
   "metadata": {},
   "outputs": [],
   "source": [
    "def armstrong():\n",
    "    print('Armstrong number are:')\n",
    "    for i in range(1,1001):\n",
    "        digit=len(str(i))\n",
    "        a=b=i  \n",
    "        sum=0\n",
    "        while(a!=0):\n",
    "            rem=a%10\n",
    "            a=a//10\n",
    "            power=rem**digit\n",
    "            \n",
    "            sum=sum+power\n",
    "        if b==sum:\n",
    "            yield b"
   ]
  },
  {
   "cell_type": "code",
   "execution_count": 66,
   "metadata": {},
   "outputs": [
    {
     "name": "stdout",
     "output_type": "stream",
     "text": [
      "Armstrong number are:\n",
      "[1, 2, 3, 4, 5, 6, 7, 8, 9, 153, 370, 371, 407]\n"
     ]
    }
   ],
   "source": [
    "print(list(armstrong()))"
   ]
  },
  {
   "cell_type": "code",
   "execution_count": null,
   "metadata": {},
   "outputs": [],
   "source": []
  }
 ],
 "metadata": {
  "kernelspec": {
   "display_name": "Python 3",
   "language": "python",
   "name": "python3"
  },
  "language_info": {
   "codemirror_mode": {
    "name": "ipython",
    "version": 3
   },
   "file_extension": ".py",
   "mimetype": "text/x-python",
   "name": "python",
   "nbconvert_exporter": "python",
   "pygments_lexer": "ipython3",
   "version": "3.8.3"
  }
 },
 "nbformat": 4,
 "nbformat_minor": 4
}
